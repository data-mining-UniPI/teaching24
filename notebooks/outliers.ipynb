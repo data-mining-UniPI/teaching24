{
 "cells": [
  {
   "cell_type": "code",
   "execution_count": 1,
   "id": "59be28ac-0705-42fa-b126-65b9d94e2020",
   "metadata": {},
   "outputs": [],
   "source": [
    "# All auxiliary code is in ../src\n",
    "\n",
    "import sys\n",
    "\n",
    "sys.path.append(\"../src/\")"
   ]
  },
  {
   "cell_type": "markdown",
   "id": "ca303462-e6b4-46dd-b99c-9f85b5b6b4b0",
   "metadata": {},
   "source": [
    "# Anomaly/Outlier detection\n",
    "\n",
    "In a set of instances, an outlier is...\n",
    "\n",
    "- Something unusual. A penguin in this classroom.\n",
    "- Something extreme. A cassata at a cake competition."
   ]
  },
  {
   "cell_type": "code",
   "execution_count": 2,
   "id": "5e4e5d12-9d68-4a9a-bfb3-790035c86bd8",
   "metadata": {},
   "outputs": [
    {
     "name": "stderr",
     "output_type": "stream",
     "text": [
      "/Users/lorenzomannocci/anaconda3/envs/dm/lib/python3.12/site-packages/tqdm/auto.py:21: TqdmWarning: IProgress not found. Please update jupyter and ipywidgets. See https://ipywidgets.readthedocs.io/en/stable/user_install.html\n",
      "  from .autonotebook import tqdm as notebook_tqdm\n"
     ]
    }
   ],
   "source": [
    "from datasets import load_dataset\n",
    "from transformations import center_and_scale\n",
    "import pandas\n",
    "\n",
    "\n",
    "train_dataset = load_dataset(\"mstz/adult\", \"income\")[\"train\"].to_pandas()\n",
    "test_dataset = load_dataset(\"mstz/adult\", \"income\")[\"test\"].to_pandas()\n",
    "\n",
    "train_labels = train_dataset[\"over_threshold\"]\n",
    "test_labels = test_dataset[\"over_threshold\"]\n",
    "\n",
    "train_dataset = train_dataset.drop(\"over_threshold\", axis=\"columns\")\n",
    "test_dataset = test_dataset.drop(\"over_threshold\", axis=\"columns\")\n",
    "\n",
    "# note: here for simplicity we focus only on numeric features, but consider encoding categorical features too\n",
    "numeric_train_dataset = train_dataset.select_dtypes(include=\"number\")\n",
    "numeric_test_dataset = test_dataset.select_dtypes(include=\"number\")\n",
    "data_only_dataset = pandas.concat((numeric_train_dataset, numeric_test_dataset), axis=\"rows\")\n",
    "data_only_dataset, _ = center_and_scale(data_only_dataset)\n",
    "\n",
    "joined_full_dataset = pandas.concat((train_dataset, test_dataset), axis=\"rows\")\n",
    "dataset_with_outlier_scores = joined_full_dataset.copy()"
   ]
  },
  {
   "cell_type": "markdown",
   "id": "c4983f33-98a7-482b-8ad1-a2c1eb54cbb6",
   "metadata": {},
   "source": [
    "---"
   ]
  },
  {
   "cell_type": "markdown",
   "id": "902fe00d-937e-4de1-a462-b99e9a9af571",
   "metadata": {},
   "source": [
    "# Distributional approach\n",
    "\n",
    "Estimate data distribution, grade instances by density.\n",
    "\n",
    "One of $k$ models $M_{\\theta_1}, \\dots, M_{\\theta_k}$ is sampled, each with a sampling probability $m_i$.\n",
    "\n",
    "\n",
    "![alt text](https://cdn.jsdelivr.net/gh/msetzu/marpee@latest/assets/imgs/linalg/1x/mixture.png \"Mixture\")"
   ]
  },
  {
   "cell_type": "markdown",
   "id": "29a7c5e8",
   "metadata": {},
   "source": [
    "Estimate model parameters with the EM algorithm.\n",
    "\n",
    "The method fits the model n_init times and sets the parameters with which the model has the largest likelihood or lower bound. Within each trial, the method iterates between E-step and M-step for max_iter times until the change of likelihood or lower bound is less than tol"
   ]
  },
  {
   "cell_type": "code",
   "execution_count": 3,
   "id": "adb462e9-b0b0-4190-8e17-6a8cf774a27e",
   "metadata": {},
   "outputs": [],
   "source": [
    "from sklearn.mixture import GaussianMixture\n",
    "import numpy\n",
    "import seaborn\n",
    "\n",
    "\n",
    "k = 5\n",
    "algorithm = GaussianMixture(n_components=k)\n",
    "algorithm.fit(data_only_dataset.values)\n",
    "\n",
    "outlier_degrees_per_normal = algorithm.predict_proba(data_only_dataset.values)\n",
    "outlier_degrees = outlier_degrees_per_normal.max(axis=1)\n",
    "\n",
    "dataset_with_outlier_scores.loc[:, \"density_degree\"] = outlier_degrees"
   ]
  },
  {
   "cell_type": "code",
   "execution_count": 4,
   "id": "d47a2171-b22d-45e2-89ac-a5982c9bb195",
   "metadata": {},
   "outputs": [
    {
     "data": {
      "text/plain": [
       "<Axes: >"
      ]
     },
     "execution_count": 4,
     "metadata": {},
     "output_type": "execute_result"
    },
    {
     "data": {
      "image/png": "[encoded data removed]",
      "text/plain": [
       "<Figure size 640x480 with 1 Axes>"
      ]
     },
     "metadata": {},
     "output_type": "display_data"
    }
   ],
   "source": [
    "sorted_outlier_degrees = sorted(outlier_degrees)\n",
    "outlier_degrees_cdf = numpy.cumsum(sorted_outlier_degrees)\n",
    "\n",
    "seaborn.lineplot(\n",
    "    x=range(dataset_with_outlier_scores.shape[0]),\n",
    "    y=sorted_outlier_degrees\n",
    ")"
   ]
  },
  {
   "cell_type": "markdown",
   "id": "95ebb48a-529c-45a1-a381-1a9bf5bdd88e",
   "metadata": {},
   "source": [
    "---"
   ]
  },
  {
   "cell_type": "markdown",
   "id": "ad79e23a-d577-4952-bb3a-02d5022a95d4",
   "metadata": {},
   "source": [
    "# Connectivity approach\n",
    "\n",
    "Assumption: Inliers have lower reach than their neighbors. We formalize this in a reach ratio\n",
    "$$\\tilde{o}^k_{i, j} = \\dfrac{\\bar{\\gamma}^k(x_i)}{\\bar{\\gamma}^k(x_j)},$$\n",
    "which is $1$ for pairs $x_i, x_j$ with equal k-neighbors concentration, and $> 1$ for instances with different concentrations, $x_i$ laying in a sparser area of the space.\n",
    "\n",
    "\n",
    "![alt text](https://cdn.jsdelivr.net/gh/msetzu/marpee@latest/assets/imgs/outliers/0.75x/reach3%400.75x.png \"Reach\")\n",
    "\n",
    "*Reach@3 (*$\\gamma^3(\\cdot)$*)* of two instances."
   ]
  },
  {
   "cell_type": "markdown",
   "id": "ad112a10",
   "metadata": {},
   "source": [
    "\n",
    "It is a density-based unsupervised outlier detection method which uses Local Outlier Factor (LOF). LOF is the anomaly score, computed for each sample.\n",
    "It considers a local density, in which the denisity of a point is relative to that of its k nearest neighbors. \n",
    "LOF is computed as the average of the ratios of the density of the sample under analysis and the density of its nearest neighbors. The outliers are the ones with largest LOF values.\n",
    "\n",
    "sklearn implementation:\n",
    "negative_outlier_factor_ndarray of shape (n_samples,)\n",
    "The opposite LOF of the training samples. The higher, the more normal. Inliers tend to have a LOF score close to 1 (negative_outlier_factor_ close to -1), while outliers tend to have a larger LOF score.\n",
    "The local outlier factor (LOF) of a sample captures its supposed ‘degree of abnormality’. It is the average of the ratio of the local reachability density of a sample and those of its k-nearest neighbors.\n",
    "\n",
    "\n",
    "Since it is based on KNN, you have to set the hyper parameters of KNN."
   ]
  },
  {
   "cell_type": "code",
   "execution_count": 5,
   "id": "87b78d8a-04fd-4728-98d1-50976fafb974",
   "metadata": {},
   "outputs": [],
   "source": [
    "from sklearn.neighbors import LocalOutlierFactor\n",
    "\n",
    "k = 25\n",
    "\n",
    "algorithm = LocalOutlierFactor(n_neighbors=k)\n",
    "algorithm.fit(data_only_dataset)\n",
    "\n",
    "# negated outlier scores: the higher, the more of an outlier\n",
    "outlier_degrees = - algorithm.negative_outlier_factor_\n",
    "dataset_with_outlier_scores.loc[:, \"lof_degree\"] = outlier_degrees"
   ]
  },
  {
   "cell_type": "code",
   "execution_count": 6,
   "id": "0757b269",
   "metadata": {},
   "outputs": [
    {
     "data": {
      "text/plain": [
       "<Axes: >"
      ]
     },
     "execution_count": 6,
     "metadata": {},
     "output_type": "execute_result"
    },
    {
     "data": {
      "image/png": "[encoded data removed]",
      "text/plain": [
       "<Figure size 640x480 with 1 Axes>"
      ]
     },
     "metadata": {},
     "output_type": "display_data"
    }
   ],
   "source": [
    "import seaborn\n",
    "from scipy.spatial.distance import pdist, squareform\n",
    "\n",
    "sorted_outlier_degrees = sorted(outlier_degrees)\n",
    "\n",
    "# to achieve comparable degrees among different algorithms,\n",
    "# we normalize distance-based scores by the maximum possible distance\n",
    "# distances = squareform(pdist(data_only_dataset.values))\n",
    "# maximum_possible_radius = distances.max()\n",
    "# normalization_factor = maximum_possible_radius / k\n",
    "# normalized_sorted_outlier_degrees = sorted_outlier_degrees / normalization_factor\n",
    "# dataset_with_outlier_scores.loc[:, \"lof_degree_normalized\"] = outlier_degrees / normalization_factor\n",
    "\n",
    "seaborn.lineplot(\n",
    "    x=range(dataset_with_outlier_scores.shape[0]),\n",
    "    y=sorted_outlier_degrees\n",
    ")"
   ]
  },
  {
   "cell_type": "markdown",
   "id": "4a05f164-5733-4680-bf07-5afad00d3e2e",
   "metadata": {},
   "source": [
    "---"
   ]
  },
  {
   "cell_type": "markdown",
   "id": "4dd25514-c6d5-4f27-b73b-0f8e20263a6d",
   "metadata": {},
   "source": [
    "# One-class SVM\n",
    "\n",
    "Our goal: to best separate the outliers, that is, to **maximize** the distance between them and the inliers. In other words, to find a discriminative criterion maximizing the distance between inliers and outliers.\n",
    "\n",
    "![alt text](https://cdn.jsdelivr.net/gh/msetzu/marpee@latest/assets/imgs/linalg/0.5x/planes%400.5x.png \"SVM\")\n",
    "\n",
    "\n",
    "*Separating hyperplane.*\n",
    "\n",
    "Signed distance is positive for an inlier and negative for an outlier."
   ]
  },
  {
   "cell_type": "code",
   "execution_count": 7,
   "id": "21b4b947-1635-4fc5-81c3-3947613cd5e3",
   "metadata": {},
   "outputs": [],
   "source": [
    "from sklearn.svm import OneClassSVM\n",
    "\n",
    "\n",
    "kernel = \"rbf\"\n",
    "# kernel = \"linear\"\n",
    "# kernel = \"poly\"\n",
    "algorithm = OneClassSVM(kernel=kernel)\n",
    "algorithm.fit(data_only_dataset)\n",
    "\n",
    "# this implementation provides two different scores:\n",
    "#   outlier classification in {+1, -1}\n",
    "#   outlier scores in R: distance from hyperplane\n",
    "outlier_classification_scores = algorithm.predict(data_only_dataset)\n",
    "outlier_distance_scores = algorithm.score_samples(data_only_dataset)\n",
    "\n",
    "dataset_with_outlier_scores.loc[:, \"oneclass_svm_degree\"] = outlier_distance_scores\n",
    "dataset_with_outlier_scores.loc[:, \"oneclass_svm_degree_binary\"] = (outlier_classification_scores  + 1) % 2  # map to {0, 1}\n",
    "\n",
    "if kernel == \"linear\":\n",
    "    support_vectors = data_only_dataset.iloc[algorithm.support_]\n",
    "    \n",
    "else:\n",
    "    support_vectors = None"
   ]
  },
  {
   "cell_type": "code",
   "execution_count": 8,
   "id": "062b1a41-874f-47a6-af2d-eac96a14eb8e",
   "metadata": {},
   "outputs": [
    {
     "data": {
      "text/plain": [
       "<Axes: >"
      ]
     },
     "execution_count": 8,
     "metadata": {},
     "output_type": "execute_result"
    },
    {
     "data": {
      "image/png": "[encoded data removed]",
      "text/plain": [
       "<Figure size 640x480 with 1 Axes>"
      ]
     },
     "metadata": {},
     "output_type": "display_data"
    }
   ],
   "source": [
    "import seaborn\n",
    "from scipy.spatial.distance import pdist, squareform\n",
    "\n",
    "\n",
    "sorted_outlier_degrees = sorted(outlier_distance_scores)\n",
    "\n",
    "# to achieve comparable degrees among different algorithms, we normalize distance-based scores by the maximum possible distance\n",
    "# normalization_factor = sorted_outlier_degrees[-1]\n",
    "# normalized_sorted_outlier_degrees = sorted_outlier_degrees / normalization_factor\n",
    "# dataset_with_outlier_scores.loc[:, \"oneclass_svm_degree_normalized\"] = outlier_degrees / normalization_factor\n",
    "\n",
    "seaborn.lineplot(\n",
    "    x=range(dataset_with_outlier_scores.shape[0]),\n",
    "    y=sorted_outlier_degrees\n",
    ")"
   ]
  },
  {
   "cell_type": "markdown",
   "id": "84e63046-03e9-4cd9-a019-a5d41378b7ff",
   "metadata": {},
   "source": [
    "---"
   ]
  },
  {
   "cell_type": "markdown",
   "id": "f40f6d73-9e9d-48a3-a568-46071b27a0f9",
   "metadata": {},
   "source": [
    "# Isolation forest\n",
    "\n",
    "An isolation forest $T$ is comprised of several isolation trees, further sampling the hyperplane space.\n",
    "Outlier degree\n",
    "$$\\tilde{o}(x_i) = 2^{-\\dfrac{\\Sigma_{t \\in T} path(x_i, t)}{\\mid T \\mid c} }$$\n",
    "\n",
    "![alt text](https://cdn.jsdelivr.net/gh/msetzu/marpee@latest/assets/imgs/outliers/0.5x/isointersect%400.5x.png \"SVM\")"
   ]
  },
  {
   "cell_type": "markdown",
   "id": "9fb6394d",
   "metadata": {},
   "source": [
    "Average anomaly score of X of the base classifiers.\n",
    "\n",
    "The anomaly score of an input sample is computed as the mean anomaly score of the trees in the forest.\n",
    "\n",
    "The measure of normality of an observation given a tree is the depth of the leaf containing this observation, which is equivalent to the number of splittings required to isolate this point. In case of several observations n_left in the leaf, the average path length of a n_left samples isolation tree is added."
   ]
  },
  {
   "cell_type": "code",
   "execution_count": 9,
   "id": "08e10d02-3152-4037-83fe-6008af2e0b9c",
   "metadata": {},
   "outputs": [],
   "source": [
    "from sklearn.ensemble import IsolationForest\n",
    "\n",
    "\n",
    "max_features = data_only_dataset.shape[1]\n",
    "algorithm = IsolationForest(max_features=max_features)\n",
    "algorithm.fit(data_only_dataset)\n",
    "# the lower, more outliers\n",
    "outlier_degrees = algorithm.decision_function(data_only_dataset) + 0.5\n",
    "outlier_scores = 1 - (algorithm.predict(data_only_dataset) + 1) / 2 # outlier become +1, inliers become 0. (i map -1, 1)\n",
    "\n",
    "dataset_with_outlier_scores.loc[:, \"isolation_forest_degree\"] = outlier_degrees\n",
    "dataset_with_outlier_scores.loc[:, \"isolation_forest_scores\"] = outlier_scores"
   ]
  },
  {
   "cell_type": "code",
   "execution_count": 10,
   "id": "7713ac9a-de3d-41a9-9ac8-e3afb2518b2b",
   "metadata": {},
   "outputs": [
    {
     "data": {
      "text/plain": [
       "<Axes: >"
      ]
     },
     "execution_count": 10,
     "metadata": {},
     "output_type": "execute_result"
    },
    {
     "data": {
      "image/png": "[encoded data removed]",
      "text/plain": [
       "<Figure size 640x480 with 1 Axes>"
      ]
     },
     "metadata": {},
     "output_type": "display_data"
    }
   ],
   "source": [
    "import seaborn\n",
    "from scipy.spatial.distance import pdist, squareform\n",
    "\n",
    "\n",
    "sorted_outlier_degrees = sorted(outlier_degrees)\n",
    "\n",
    "\n",
    "seaborn.lineplot(\n",
    "    x=range(dataset_with_outlier_scores.shape[0]),\n",
    "    y=sorted_outlier_degrees\n",
    ")"
   ]
  },
  {
   "cell_type": "code",
   "execution_count": 11,
   "id": "fc49cbbd",
   "metadata": {},
   "outputs": [
    {
     "data": {
      "text/html": [
       "<div>\n",
       "<style scoped>\n",
       "    .dataframe tbody tr th:only-of-type {\n",
       "        vertical-align: middle;\n",
       "    }\n",
       "\n",
       "    .dataframe tbody tr th {\n",
       "        vertical-align: top;\n",
       "    }\n",
       "\n",
       "    .dataframe thead th {\n",
       "        text-align: right;\n",
       "    }\n",
       "</style>\n",
       "<table border=\"1\" class=\"dataframe\">\n",
       "  <thead>\n",
       "    <tr style=\"text-align: right;\">\n",
       "      <th></th>\n",
       "      <th>age</th>\n",
       "      <th>capital_gain</th>\n",
       "      <th>capital_loss</th>\n",
       "      <th>education</th>\n",
       "      <th>final_weight</th>\n",
       "      <th>hours_worked_per_week</th>\n",
       "      <th>marital_status</th>\n",
       "      <th>native_country</th>\n",
       "      <th>occupation</th>\n",
       "      <th>race</th>\n",
       "      <th>relationship</th>\n",
       "      <th>is_male</th>\n",
       "      <th>workclass</th>\n",
       "      <th>density_degree</th>\n",
       "      <th>lof_degree</th>\n",
       "      <th>oneclass_svm_degree</th>\n",
       "      <th>oneclass_svm_degree_binary</th>\n",
       "      <th>isolation_forest_degree</th>\n",
       "      <th>isolation_forest_scores</th>\n",
       "    </tr>\n",
       "  </thead>\n",
       "  <tbody>\n",
       "    <tr>\n",
       "      <th>0</th>\n",
       "      <td>43</td>\n",
       "      <td>0.0</td>\n",
       "      <td>0.0</td>\n",
       "      <td>10</td>\n",
       "      <td>34278</td>\n",
       "      <td>35</td>\n",
       "      <td>Married-civ-spouse</td>\n",
       "      <td>United-States</td>\n",
       "      <td>Sales</td>\n",
       "      <td>White</td>\n",
       "      <td>Husband</td>\n",
       "      <td>True</td>\n",
       "      <td>Private</td>\n",
       "      <td>0.999853</td>\n",
       "      <td>1.622111</td>\n",
       "      <td>6456.123754</td>\n",
       "      <td>0</td>\n",
       "      <td>0.603263</td>\n",
       "      <td>0.0</td>\n",
       "    </tr>\n",
       "    <tr>\n",
       "      <th>1</th>\n",
       "      <td>23</td>\n",
       "      <td>0.0</td>\n",
       "      <td>0.0</td>\n",
       "      <td>3</td>\n",
       "      <td>244698</td>\n",
       "      <td>35</td>\n",
       "      <td>Never-married</td>\n",
       "      <td>Mexico</td>\n",
       "      <td>Farming-fishing</td>\n",
       "      <td>White</td>\n",
       "      <td>Other-relative</td>\n",
       "      <td>True</td>\n",
       "      <td>Private</td>\n",
       "      <td>0.999920</td>\n",
       "      <td>1.082033</td>\n",
       "      <td>3493.946744</td>\n",
       "      <td>0</td>\n",
       "      <td>0.552261</td>\n",
       "      <td>0.0</td>\n",
       "    </tr>\n",
       "    <tr>\n",
       "      <th>2</th>\n",
       "      <td>39</td>\n",
       "      <td>0.0</td>\n",
       "      <td>0.0</td>\n",
       "      <td>10</td>\n",
       "      <td>118286</td>\n",
       "      <td>40</td>\n",
       "      <td>Married-civ-spouse</td>\n",
       "      <td>United-States</td>\n",
       "      <td>Sales</td>\n",
       "      <td>Black</td>\n",
       "      <td>Husband</td>\n",
       "      <td>True</td>\n",
       "      <td>Private</td>\n",
       "      <td>0.999284</td>\n",
       "      <td>1.001079</td>\n",
       "      <td>7956.180791</td>\n",
       "      <td>0</td>\n",
       "      <td>0.653908</td>\n",
       "      <td>0.0</td>\n",
       "    </tr>\n",
       "    <tr>\n",
       "      <th>3</th>\n",
       "      <td>35</td>\n",
       "      <td>0.0</td>\n",
       "      <td>0.0</td>\n",
       "      <td>9</td>\n",
       "      <td>126675</td>\n",
       "      <td>46</td>\n",
       "      <td>Divorced</td>\n",
       "      <td>?</td>\n",
       "      <td>Craft-repair</td>\n",
       "      <td>White</td>\n",
       "      <td>Not-in-family</td>\n",
       "      <td>True</td>\n",
       "      <td>Private</td>\n",
       "      <td>0.999859</td>\n",
       "      <td>0.981331</td>\n",
       "      <td>7596.139087</td>\n",
       "      <td>0</td>\n",
       "      <td>0.643286</td>\n",
       "      <td>0.0</td>\n",
       "    </tr>\n",
       "    <tr>\n",
       "      <th>4</th>\n",
       "      <td>66</td>\n",
       "      <td>0.0</td>\n",
       "      <td>0.0</td>\n",
       "      <td>13</td>\n",
       "      <td>28367</td>\n",
       "      <td>99</td>\n",
       "      <td>Married-civ-spouse</td>\n",
       "      <td>United-States</td>\n",
       "      <td>Priv-house-serv</td>\n",
       "      <td>White</td>\n",
       "      <td>Other-relative</td>\n",
       "      <td>True</td>\n",
       "      <td>Private</td>\n",
       "      <td>1.000000</td>\n",
       "      <td>1.405055</td>\n",
       "      <td>458.341761</td>\n",
       "      <td>0</td>\n",
       "      <td>0.428878</td>\n",
       "      <td>1.0</td>\n",
       "    </tr>\n",
       "    <tr>\n",
       "      <th>...</th>\n",
       "      <td>...</td>\n",
       "      <td>...</td>\n",
       "      <td>...</td>\n",
       "      <td>...</td>\n",
       "      <td>...</td>\n",
       "      <td>...</td>\n",
       "      <td>...</td>\n",
       "      <td>...</td>\n",
       "      <td>...</td>\n",
       "      <td>...</td>\n",
       "      <td>...</td>\n",
       "      <td>...</td>\n",
       "      <td>...</td>\n",
       "      <td>...</td>\n",
       "      <td>...</td>\n",
       "      <td>...</td>\n",
       "      <td>...</td>\n",
       "      <td>...</td>\n",
       "      <td>...</td>\n",
       "    </tr>\n",
       "    <tr>\n",
       "      <th>12206</th>\n",
       "      <td>35</td>\n",
       "      <td>0.0</td>\n",
       "      <td>0.0</td>\n",
       "      <td>11</td>\n",
       "      <td>216256</td>\n",
       "      <td>60</td>\n",
       "      <td>Never-married</td>\n",
       "      <td>United-States</td>\n",
       "      <td>Other-service</td>\n",
       "      <td>White</td>\n",
       "      <td>Not-in-family</td>\n",
       "      <td>True</td>\n",
       "      <td>Private</td>\n",
       "      <td>0.999928</td>\n",
       "      <td>1.126996</td>\n",
       "      <td>6327.367156</td>\n",
       "      <td>0</td>\n",
       "      <td>0.607849</td>\n",
       "      <td>0.0</td>\n",
       "    </tr>\n",
       "    <tr>\n",
       "      <th>12207</th>\n",
       "      <td>38</td>\n",
       "      <td>0.0</td>\n",
       "      <td>0.0</td>\n",
       "      <td>9</td>\n",
       "      <td>159179</td>\n",
       "      <td>40</td>\n",
       "      <td>Married-civ-spouse</td>\n",
       "      <td>United-States</td>\n",
       "      <td>Craft-repair</td>\n",
       "      <td>White</td>\n",
       "      <td>Husband</td>\n",
       "      <td>True</td>\n",
       "      <td>Private</td>\n",
       "      <td>0.999322</td>\n",
       "      <td>1.043190</td>\n",
       "      <td>8090.934177</td>\n",
       "      <td>0</td>\n",
       "      <td>0.656957</td>\n",
       "      <td>0.0</td>\n",
       "    </tr>\n",
       "    <tr>\n",
       "      <th>12208</th>\n",
       "      <td>42</td>\n",
       "      <td>0.0</td>\n",
       "      <td>0.0</td>\n",
       "      <td>13</td>\n",
       "      <td>37997</td>\n",
       "      <td>40</td>\n",
       "      <td>Married-civ-spouse</td>\n",
       "      <td>United-States</td>\n",
       "      <td>Exec-managerial</td>\n",
       "      <td>White</td>\n",
       "      <td>Husband</td>\n",
       "      <td>True</td>\n",
       "      <td>Federal-gov</td>\n",
       "      <td>0.999163</td>\n",
       "      <td>0.989845</td>\n",
       "      <td>5997.176332</td>\n",
       "      <td>0</td>\n",
       "      <td>0.614381</td>\n",
       "      <td>0.0</td>\n",
       "    </tr>\n",
       "    <tr>\n",
       "      <th>12209</th>\n",
       "      <td>29</td>\n",
       "      <td>0.0</td>\n",
       "      <td>0.0</td>\n",
       "      <td>9</td>\n",
       "      <td>183061</td>\n",
       "      <td>48</td>\n",
       "      <td>Married-civ-spouse</td>\n",
       "      <td>United-States</td>\n",
       "      <td>Craft-repair</td>\n",
       "      <td>Amer-Indian-Eskimo</td>\n",
       "      <td>Husband</td>\n",
       "      <td>True</td>\n",
       "      <td>Private</td>\n",
       "      <td>0.999876</td>\n",
       "      <td>1.103944</td>\n",
       "      <td>7358.492889</td>\n",
       "      <td>0</td>\n",
       "      <td>0.642221</td>\n",
       "      <td>0.0</td>\n",
       "    </tr>\n",
       "    <tr>\n",
       "      <th>12210</th>\n",
       "      <td>48</td>\n",
       "      <td>0.0</td>\n",
       "      <td>0.0</td>\n",
       "      <td>11</td>\n",
       "      <td>355320</td>\n",
       "      <td>15</td>\n",
       "      <td>Married-civ-spouse</td>\n",
       "      <td>Germany</td>\n",
       "      <td>Exec-managerial</td>\n",
       "      <td>White</td>\n",
       "      <td>Husband</td>\n",
       "      <td>True</td>\n",
       "      <td>State-gov</td>\n",
       "      <td>0.999939</td>\n",
       "      <td>1.098467</td>\n",
       "      <td>3903.229213</td>\n",
       "      <td>0</td>\n",
       "      <td>0.531620</td>\n",
       "      <td>0.0</td>\n",
       "    </tr>\n",
       "  </tbody>\n",
       "</table>\n",
       "<p>48842 rows × 19 columns</p>\n",
       "</div>"
      ],
      "text/plain": [
       "       age  capital_gain  capital_loss  education  final_weight  \\\n",
       "0       43           0.0           0.0         10         34278   \n",
       "1       23           0.0           0.0          3        244698   \n",
       "2       39           0.0           0.0         10        118286   \n",
       "3       35           0.0           0.0          9        126675   \n",
       "4       66           0.0           0.0         13         28367   \n",
       "...    ...           ...           ...        ...           ...   \n",
       "12206   35           0.0           0.0         11        216256   \n",
       "12207   38           0.0           0.0          9        159179   \n",
       "12208   42           0.0           0.0         13         37997   \n",
       "12209   29           0.0           0.0          9        183061   \n",
       "12210   48           0.0           0.0         11        355320   \n",
       "\n",
       "       hours_worked_per_week      marital_status native_country  \\\n",
       "0                         35  Married-civ-spouse  United-States   \n",
       "1                         35       Never-married         Mexico   \n",
       "2                         40  Married-civ-spouse  United-States   \n",
       "3                         46            Divorced              ?   \n",
       "4                         99  Married-civ-spouse  United-States   \n",
       "...                      ...                 ...            ...   \n",
       "12206                     60       Never-married  United-States   \n",
       "12207                     40  Married-civ-spouse  United-States   \n",
       "12208                     40  Married-civ-spouse  United-States   \n",
       "12209                     48  Married-civ-spouse  United-States   \n",
       "12210                     15  Married-civ-spouse        Germany   \n",
       "\n",
       "            occupation                race    relationship  is_male  \\\n",
       "0                Sales               White         Husband     True   \n",
       "1      Farming-fishing               White  Other-relative     True   \n",
       "2                Sales               Black         Husband     True   \n",
       "3         Craft-repair               White   Not-in-family     True   \n",
       "4      Priv-house-serv               White  Other-relative     True   \n",
       "...                ...                 ...             ...      ...   \n",
       "12206    Other-service               White   Not-in-family     True   \n",
       "12207     Craft-repair               White         Husband     True   \n",
       "12208  Exec-managerial               White         Husband     True   \n",
       "12209     Craft-repair  Amer-Indian-Eskimo         Husband     True   \n",
       "12210  Exec-managerial               White         Husband     True   \n",
       "\n",
       "         workclass  density_degree  lof_degree  oneclass_svm_degree  \\\n",
       "0          Private        0.999853    1.622111          6456.123754   \n",
       "1          Private        0.999920    1.082033          3493.946744   \n",
       "2          Private        0.999284    1.001079          7956.180791   \n",
       "3          Private        0.999859    0.981331          7596.139087   \n",
       "4          Private        1.000000    1.405055           458.341761   \n",
       "...            ...             ...         ...                  ...   \n",
       "12206      Private        0.999928    1.126996          6327.367156   \n",
       "12207      Private        0.999322    1.043190          8090.934177   \n",
       "12208  Federal-gov        0.999163    0.989845          5997.176332   \n",
       "12209      Private        0.999876    1.103944          7358.492889   \n",
       "12210    State-gov        0.999939    1.098467          3903.229213   \n",
       "\n",
       "       oneclass_svm_degree_binary  isolation_forest_degree  \\\n",
       "0                               0                 0.603263   \n",
       "1                               0                 0.552261   \n",
       "2                               0                 0.653908   \n",
       "3                               0                 0.643286   \n",
       "4                               0                 0.428878   \n",
       "...                           ...                      ...   \n",
       "12206                           0                 0.607849   \n",
       "12207                           0                 0.656957   \n",
       "12208                           0                 0.614381   \n",
       "12209                           0                 0.642221   \n",
       "12210                           0                 0.531620   \n",
       "\n",
       "       isolation_forest_scores  \n",
       "0                          0.0  \n",
       "1                          0.0  \n",
       "2                          0.0  \n",
       "3                          0.0  \n",
       "4                          1.0  \n",
       "...                        ...  \n",
       "12206                      0.0  \n",
       "12207                      0.0  \n",
       "12208                      0.0  \n",
       "12209                      0.0  \n",
       "12210                      0.0  \n",
       "\n",
       "[48842 rows x 19 columns]"
      ]
     },
     "execution_count": 11,
     "metadata": {},
     "output_type": "execute_result"
    }
   ],
   "source": [
    "dataset_with_outlier_scores"
   ]
  },
  {
   "cell_type": "markdown",
   "id": "86fa39f2-c22c-4787-9333-a8393b039983",
   "metadata": {},
   "source": [
    "---"
   ]
  },
  {
   "cell_type": "markdown",
   "id": "391f226a-89ed-469b-b9aa-d673f275cc99",
   "metadata": {},
   "source": [
    "# PyOd\n",
    "\n",
    "[Reference.](https://github.com/yzhao062/pyod)\n",
    "\n",
    "A library with many more outlier detection algorithms."
   ]
  },
  {
   "cell_type": "code",
   "execution_count": null,
   "id": "0865c862-02b8-42d0-93ed-2d44714e43d9",
   "metadata": {},
   "outputs": [],
   "source": [
    "from pyod.models import ECOD  # distribution-based\n",
    "from pyod.models import GMM  # distribution-based\n",
    "from pyod.models import ABOD  # angle-based\n",
    "from pyod.models import COPOD  # manifold-based\n",
    "from pyod.models import LOF, COF, LOCI  # connection-based\n",
    "from pyod.models import XGBOD # isolation-based\n",
    "\n",
    "\n",
    "algorithm = ...\n",
    "algorithm.fit(data_only_dataset)\n",
    "\n",
    "# outlier scores only\n",
    "outlier_scores = algorithm.decision_function(data_only_dataset)\n",
    "outlier_labels = algorithm.predict(data_only_dataset)"
   ]
  }
 ],
 "metadata": {
  "kernelspec": {
   "display_name": "dm",
   "language": "python",
   "name": "dm"
  },
  "language_info": {
   "codemirror_mode": {
    "name": "ipython",
    "version": 3
   },
   "file_extension": ".py",
   "mimetype": "text/x-python",
   "name": "python",
   "nbconvert_exporter": "python",
   "pygments_lexer": "ipython3",
   "version": "3.12.5"
  }
 },
 "nbformat": 4,
 "nbformat_minor": 5
}
